{
 "cells": [
  {
   "cell_type": "code",
   "execution_count": 3,
   "id": "86a5bb84-2273-416b-a149-13141346d056",
   "metadata": {},
   "outputs": [],
   "source": [
    "import pandas as pd"
   ]
  },
  {
   "cell_type": "code",
   "execution_count": 4,
   "id": "3041d2dd-24f8-47f7-8a0f-ff94ba503518",
   "metadata": {},
   "outputs": [],
   "source": [
    "dataset = pd.read_csv(\"Examensarbete_Memberdata_SE.csv\")"
   ]
  },
  {
   "cell_type": "code",
   "execution_count": null,
   "id": "aedfd4fe-854a-4578-9e0c-3ca7d67a775c",
   "metadata": {},
   "outputs": [],
   "source": []
  }
 ],
 "metadata": {
  "kernelspec": {
   "display_name": "Python 3 (ipykernel)",
   "language": "python",
   "name": "python3"
  },
  "language_info": {
   "codemirror_mode": {
    "name": "ipython",
    "version": 3
   },
   "file_extension": ".py",
   "mimetype": "text/x-python",
   "name": "python",
   "nbconvert_exporter": "python",
   "pygments_lexer": "ipython3",
   "version": "3.11.7"
  }
 },
 "nbformat": 4,
 "nbformat_minor": 5
}
